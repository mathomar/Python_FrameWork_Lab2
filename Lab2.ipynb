{
 "cells": [
  {
   "cell_type": "markdown",
   "metadata": {},
   "source": [
    "# 1. Perform a set of exercises"
   ]
  },
  {
   "cell_type": "markdown",
   "metadata": {},
   "source": [
    "### Excercise 1.  \n",
    "Enter the number n. Output an array of size nхn, in which thediagonals are numbers from 1 to n, and other elements are 0"
   ]
  },
  {
   "cell_type": "code",
   "execution_count": 6,
   "metadata": {},
   "outputs": [
    {
     "name": "stdout",
     "output_type": "stream",
     "text": [
      "Enter: 5\n",
      "[[1. 0. 0. 0. 0.]\n",
      " [0. 2. 0. 0. 0.]\n",
      " [0. 0. 3. 0. 0.]\n",
      " [0. 0. 0. 4. 0.]\n",
      " [0. 0. 0. 0. 5.]]\n"
     ]
    }
   ],
   "source": [
    "import numpy as np\n",
    "\n",
    "def generate():\n",
    "    a = int(input(\"Enter: \"))\n",
    "    for x in range(1,a + 1):\n",
    "        yield x\n",
    "\n",
    "Z = np.fromiter(generate(), dtype=float, count=-1)\n",
    "x = np.diag(Z)\n",
    "\n",
    "print(x)\n"
   ]
  },
  {
   "cell_type": "markdown",
   "metadata": {},
   "source": [
    "#### Excercise 3. \n",
    "Enter 4 numbers n, m, r, c. Output an array of size nхm, in which ineach r -th row and in each c-th column are 0, and other elements are equal to 1."
   ]
  },
  {
   "cell_type": "code",
   "execution_count": 8,
   "metadata": {},
   "outputs": [
    {
     "name": "stdout",
     "output_type": "stream",
     "text": [
      " enter the number :6\n",
      " enter the number :7\n",
      " enter the number :2\n",
      " enter the number :3\n",
      "[[0 0 0 0 0 0 0]\n",
      " [0 1 1 0 1 1 0]\n",
      " [0 0 0 0 0 0 0]\n",
      " [0 1 1 0 1 1 0]\n",
      " [0 0 0 0 0 0 0]\n",
      " [0 1 1 0 1 1 0]]\n"
     ]
    }
   ],
   "source": [
    "import numpy as np\n",
    "\n",
    "n =int(input(\" enter the number :\"))\n",
    "m =int(input(\" enter the number :\"))\n",
    "r =int(input(\" enter the number :\"))\n",
    "c=int(input(\" enter the number :\"))\n",
    "arr = np.ones((n, m), dtype=int)\n",
    "\n",
    "arr[::r, :] = 0\n",
    "arr[:,::c] = 0\n",
    "print(arr)"
   ]
  },
  {
   "cell_type": "markdown",
   "metadata": {},
   "source": [
    "### Excercise 4. \n",
    "Enter the numbers n and m. Output an array of size nхm, in which the first line (line with zero index) are numbers from 0 to m-1, and all other elements\n",
    "of the matrix are equal to 0."
   ]
  },
  {
   "cell_type": "code",
   "execution_count": 9,
   "metadata": {},
   "outputs": [
    {
     "name": "stdout",
     "output_type": "stream",
     "text": [
      " enter the number :3\n",
      " enter the number :4\n",
      "[[0 1 2]\n",
      " [0 0 0]\n",
      " [0 0 0]\n",
      " [0 0 0]]\n"
     ]
    }
   ],
   "source": [
    "import numpy as np\n",
    "\n",
    "n =int(input(\" enter the number :\"))\n",
    "m =int(input(\" enter the number :\"))\n",
    "arr = np.zeros((m, n), dtype=int)\n",
    "\n",
    "arr[0,:] = np.arange(0, n)\n",
    "print(arr)"
   ]
  },
  {
   "cell_type": "markdown",
   "metadata": {},
   "source": [
    "### Excercise 6.\n",
    "An array is entered from the keyboard. Replace all non-zero elements with -1."
   ]
  },
  {
   "cell_type": "code",
   "execution_count": 10,
   "metadata": {},
   "outputs": [
    {
     "name": "stdout",
     "output_type": "stream",
     "text": [
      ": 3 4 0 9 7 0 6 0 4 0 3\n",
      "[-1 -1  0 -1 -1  0 -1  0 -1  0 -1]\n"
     ]
    }
   ],
   "source": [
    "def matr(arr):\n",
    "    arr[arr != 0] = -1\n",
    "    return arr\n",
    "a = np.array([int(i) for i in input(\": \").split()])\n",
    "print(matr(a))"
   ]
  },
  {
   "cell_type": "markdown",
   "metadata": {},
   "source": [
    "### Excercise 10. \n",
    "Enter the numbers n and m. Create an array of random values of size nхn and calculate the minimum, maximum value, mean and standard deviation, rounded to 3 decimal places"
   ]
  },
  {
   "cell_type": "code",
   "execution_count": 11,
   "metadata": {},
   "outputs": [
    {
     "name": "stdout",
     "output_type": "stream",
     "text": [
      "0.9782440401766773\n",
      "0.004241624059050153\n",
      "0.47799416490254765\n",
      "0.31388769162401714\n"
     ]
    }
   ],
   "source": [
    "def rnd(n,m):\n",
    "    arr = np.random.random((n,m))\n",
    "    print(arr.max())\n",
    "    print(arr.min())\n",
    "    print(arr.mean())\n",
    "    print(arr.std())\n",
    "rnd(5,5)"
   ]
  },
  {
   "cell_type": "markdown",
   "metadata": {},
   "source": [
    "### Excercise 12. \n",
    "Create an array of 1 of size nхn and create an inside \"border\" formed from 0."
   ]
  },
  {
   "cell_type": "code",
   "execution_count": 12,
   "metadata": {},
   "outputs": [
    {
     "name": "stdout",
     "output_type": "stream",
     "text": [
      " enter4\n",
      "[[0 0 0 0]\n",
      " [0 1 1 0]\n",
      " [0 1 1 0]\n",
      " [0 0 0 0]]\n"
     ]
    }
   ],
   "source": [
    "import numpy as np\n",
    "n =int(input(\" enter\"))\n",
    "arr = np.ones((n, n), dtype=int)\n",
    "arr[0] = 0\n",
    "arr[-1] = 0\n",
    "arr[:, 0] = 0\n",
    "arr[:, -1] = 0\n",
    "print(arr)\n",
    "arr[0]=0"
   ]
  },
  {
   "cell_type": "markdown",
   "metadata": {},
   "source": [
    "### Excercise 15. \n",
    "Arrange 1 and 0 on the 8х8 field in a checkerboard pattern using the numpy tile()."
   ]
  },
  {
   "cell_type": "code",
   "execution_count": 13,
   "metadata": {},
   "outputs": [
    {
     "name": "stdout",
     "output_type": "stream",
     "text": [
      "[[0 1 0 1 0 1 0 1 0 1 0 1 0 1 0 1]\n",
      " [0 1 0 1 0 1 0 1 0 1 0 1 0 1 0 1]\n",
      " [0 1 0 1 0 1 0 1 0 1 0 1 0 1 0 1]\n",
      " [0 1 0 1 0 1 0 1 0 1 0 1 0 1 0 1]\n",
      " [0 1 0 1 0 1 0 1 0 1 0 1 0 1 0 1]\n",
      " [0 1 0 1 0 1 0 1 0 1 0 1 0 1 0 1]\n",
      " [0 1 0 1 0 1 0 1 0 1 0 1 0 1 0 1]\n",
      " [0 1 0 1 0 1 0 1 0 1 0 1 0 1 0 1]]\n"
     ]
    }
   ],
   "source": [
    "def rng():\n",
    "    return np.tile([0,1], (8,8))\n",
    "print(rng())"
   ]
  },
  {
   "cell_type": "markdown",
   "metadata": {},
   "source": [
    "### Excercise 17. \n",
    "Fill the vector with values from 0 to n. Replace all values greater than n/2 and less than 3n/4 with zeros."
   ]
  },
  {
   "cell_type": "code",
   "execution_count": 14,
   "metadata": {},
   "outputs": [
    {
     "name": "stdout",
     "output_type": "stream",
     "text": [
      "Enter a number : 10\n",
      "[ 0  1  2  0  0  0  0  0  8  9 10]\n"
     ]
    }
   ],
   "source": [
    "import numpy as np\n",
    "\n",
    "n = int(input(\"Enter a number : \"))\n",
    "x = np.arange(n+1)\n",
    "l, r = np.split(x, [n//4+1])\n",
    "r[r < 3*n/4] = 0\n",
    "print(x)"
   ]
  },
  {
   "cell_type": "markdown",
   "metadata": {},
   "source": [
    "### Excercise 18. \n",
    "Fill the vector with values from 0 to n. Replace signs for all values less than n/2 and greater than 3n/4 to opposite ones."
   ]
  },
  {
   "cell_type": "code",
   "execution_count": 15,
   "metadata": {},
   "outputs": [
    {
     "name": "stdout",
     "output_type": "stream",
     "text": [
      "[  0  -1  -2  -3  -4   5   6   7  -8  -9 -10]\n"
     ]
    }
   ],
   "source": [
    "def fun18(n):\n",
    "    arr = np.arange(0,n+1)\n",
    "    arr[(arr < n/2) ^ (arr > 3*n/4)] *= -1\n",
    "    return arr\n",
    "print(fun18(10))"
   ]
  },
  {
   "cell_type": "markdown",
   "metadata": {},
   "source": [
    "### Excercise 22. \n",
    "Enter the numbers n and m. Generate a matrix nхn of random intege r elements from 0 to m. Change the signs of all maximum elements to the opposite"
   ]
  },
  {
   "cell_type": "code",
   "execution_count": 16,
   "metadata": {},
   "outputs": [
    {
     "name": "stdout",
     "output_type": "stream",
     "text": [
      " enter the number :4\n",
      " enter the number :10\n",
      "[[ 6  6  4  1]\n",
      " [ 1 -9  0  5]\n",
      " [ 2  8  5  3]\n",
      " [ 5  0  7  4]]\n"
     ]
    }
   ],
   "source": [
    "import numpy as np\n",
    "\n",
    "n =int(input(\" enter the number :\"))\n",
    "m =int(input(\" enter the number :\"))\n",
    "Z = np.random.randint(m, size=(n, n))\n",
    "\n",
    "Z0 = np.where(Z == Z.max(), (-1)*Z.max(), Z)\n",
    "\n",
    "print(Z0)"
   ]
  },
  {
   "cell_type": "markdown",
   "metadata": {},
   "source": [
    "## 2. Solve the system of linear equations using Cramer's formulas and perform a test using:¶\n",
    "### a) matrix multiplication;\n",
    "### b) numpy.linalg.solve()."
   ]
  },
  {
   "cell_type": "code",
   "execution_count": 17,
   "metadata": {},
   "outputs": [
    {
     "name": "stdout",
     "output_type": "stream",
     "text": [
      "[ 2.69166667  2.625       0.85       -0.40833333]\n",
      "[ 2.69166667  2.625       0.85       -0.40833333]\n",
      "[20.  9. -9.  1.]\n",
      "True\n"
     ]
    }
   ],
   "source": [
    "def cramer(mA, B):\n",
    "    n = mA.shape[0]\n",
    "    det = np.linalg.det(mA)\n",
    "    xs = np.empty(n)\n",
    "    if det == 0:\n",
    "        return None\n",
    "    for i in range(n):\n",
    "        mAi = np.copy(mA)\n",
    "        mAi[:, i] = B\n",
    "        xs[i] = np.linalg.det(mAi) / det\n",
    "    return xs\n",
    "A = np.array([[1, 5, 3, -4], [3, 1, -2, 0], [5, -7, 0, 10], [0, 2, -5, 0]])\n",
    "B = np.array([20, 9, -9, 1])\n",
    "roots = cramer(A, B)\n",
    "print(roots)\n",
    "print(np.linalg.solve(A,B))\n",
    "ax = np.dot(A,roots)\n",
    "print(ax)\n",
    "print(np.allclose(ax, B))"
   ]
  },
  {
   "cell_type": "markdown",
   "metadata": {},
   "source": [
    "### 3. Calculate the value of the matrix expression"
   ]
  },
  {
   "cell_type": "code",
   "execution_count": 18,
   "metadata": {},
   "outputs": [
    {
     "name": "stdout",
     "output_type": "stream",
     "text": [
      "[[ -52 -340    1]\n",
      " [ 171    0    2]\n",
      " [  48   14  -49]]\n"
     ]
    }
   ],
   "source": [
    "\n",
    "A = np.array([[5,2,0],[10,4,1],[7,3,2]], dtype=int)\n",
    "B = np.array([[3,6,-1],[-1,-2,0],[2,1,3]], dtype=int)\n",
    "\n",
    "print((A-(B*B))*(2*A+B))"
   ]
  },
  {
   "cell_type": "markdown",
   "metadata": {},
   "source": [
    "## 4. Solve the matrix equation using an inverse matrix and perform a test using:¶\n",
    "### a) matrix multiplication;\n",
    "### b) numpy.linalg.solve()."
   ]
  },
  {
   "cell_type": "code",
   "execution_count": 20,
   "metadata": {},
   "outputs": [
    {
     "name": "stdout",
     "output_type": "stream",
     "text": [
      "[[1. 2. 1.]\n",
      " [2. 1. 1.]\n",
      " [1. 1. 2.]]\n",
      "[[1. 2. 1.]\n",
      " [2. 1. 1.]\n",
      " [1. 1. 2.]]\n",
      "[[9. 8. 7.]\n",
      " [2. 7. 3.]\n",
      " [4. 3. 5.]]\n",
      "True\n"
     ]
    }
   ],
   "source": [
    "a = np.array([[2,3,1],[4,-1,0],[0,1,2]])\n",
    "b = np.array([[9,8,7],[2,7,3],[4,3,5]])\n",
    "def solve(mA, mB):\n",
    "    if np.linalg.det(mA) == 0:\n",
    "        return None\n",
    "    X = np.linalg.inv(mA) @ mB\n",
    "    return X\n",
    "\n",
    "\n",
    "roots = solve(a,b)\n",
    "print(roots)\n",
    "print(np.linalg.solve(a,b))\n",
    "toor = a @ roots\n",
    "print(toor)\n",
    "print(np.allclose(prod,b))"
   ]
  },
  {
   "cell_type": "code",
   "execution_count": null,
   "metadata": {},
   "outputs": [],
   "source": []
  }
 ],
 "metadata": {
  "kernelspec": {
   "display_name": "Python 3",
   "language": "python",
   "name": "python3"
  },
  "language_info": {
   "codemirror_mode": {
    "name": "ipython",
    "version": 3
   },
   "file_extension": ".py",
   "mimetype": "text/x-python",
   "name": "python",
   "nbconvert_exporter": "python",
   "pygments_lexer": "ipython3",
   "version": "3.8.3"
  }
 },
 "nbformat": 4,
 "nbformat_minor": 4
}
